{
 "cells": [
  {
   "cell_type": "code",
   "execution_count": 31,
   "metadata": {
    "collapsed": false
   },
   "outputs": [
    {
     "name": "stdout",
     "output_type": "stream",
     "text": [
      "[1 2 3 4]\n"
     ]
    }
   ],
   "source": [
    "import numpy as np \n",
    "import math \n",
    "\n",
    "# create an array\n",
    "xnp = np.array([1,2,3,4])\n",
    "print xnp\n"
   ]
  },
  {
   "cell_type": "code",
   "execution_count": 27,
   "metadata": {
    "collapsed": false
   },
   "outputs": [
    {
     "name": "stdout",
     "output_type": "stream",
     "text": [
      "1.25\n",
      "1.25\n"
     ]
    }
   ],
   "source": [
    "# Write a function that computes the variance\n",
    "# Compare your function results with numpy results\n",
    "def variance(listy):\n",
    "    sumOriginal = 0\n",
    "    sumOrigMinusAvg = 0\n",
    "    sqOrigMinusAvg = []\n",
    "    for value in listy:\n",
    "        sumOriginal += value\n",
    "    average = float(sumOriginal) / float(len(listy))\n",
    "    for value in listy:\n",
    "        extra = 0\n",
    "        extra = (value - average) ** 2\n",
    "        sqOrigMinusAvg.append(extra)\n",
    "    for value in sqOrigMinusAvg:\n",
    "        sumOrigMinusAvg += value\n",
    "    variance = float(sumOrigMinusAvg) / float(len(sqOrigMinusAvg))\n",
    "    return variance\n",
    "\n",
    "print variance(xnp)\n",
    "print np.var(xnp)"
   ]
  },
  {
   "cell_type": "code",
   "execution_count": 30,
   "metadata": {
    "collapsed": false
   },
   "outputs": [
    {
     "name": "stdout",
     "output_type": "stream",
     "text": [
      "1.11803398875\n",
      "1.11803398875\n"
     ]
    }
   ],
   "source": [
    "# Write a function that computes the standard deviation and \n",
    "# compare your function results with numpy equivalents. \n",
    "\n",
    "def std_dev(listy):\n",
    "    sumOriginal = 0\n",
    "    sumOrigMinusAvg = 0\n",
    "    sqOrigMinusAvg = []\n",
    "    for value in listy:\n",
    "        sumOriginal += value\n",
    "    average = float(sumOriginal) / float(len(listy))\n",
    "    for value in listy:\n",
    "        extra = 0\n",
    "        extra = (value - average) ** 2\n",
    "        sqOrigMinusAvg.append(extra)\n",
    "    for value in sqOrigMinusAvg:\n",
    "        sumOrigMinusAvg += value\n",
    "    variance = float(sumOrigMinusAvg) / float(len(sqOrigMinusAvg))\n",
    "    std_deviation = math.sqrt(variance)\n",
    "    return std_deviation\n",
    "\n",
    "print std_dev(xnp)\n",
    "print np.std(xnp)"
   ]
  },
  {
   "cell_type": "code",
   "execution_count": null,
   "metadata": {
    "collapsed": true
   },
   "outputs": [],
   "source": []
  }
 ],
 "metadata": {
  "anaconda-cloud": {},
  "kernelspec": {
   "display_name": "Python [default]",
   "language": "python",
   "name": "python2"
  },
  "language_info": {
   "codemirror_mode": {
    "name": "ipython",
    "version": 2
   },
   "file_extension": ".py",
   "mimetype": "text/x-python",
   "name": "python",
   "nbconvert_exporter": "python",
   "pygments_lexer": "ipython2",
   "version": "2.7.12"
  }
 },
 "nbformat": 4,
 "nbformat_minor": 0
}
